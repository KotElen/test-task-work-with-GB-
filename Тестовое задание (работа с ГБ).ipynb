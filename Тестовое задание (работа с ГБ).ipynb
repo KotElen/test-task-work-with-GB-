{
 "cells": [
  {
   "cell_type": "code",
   "execution_count": 41,
   "id": "2f88aaf3",
   "metadata": {},
   "outputs": [],
   "source": [
    "import pandas as pd\n",
    "from py2neo import Graph\n",
    "graph = Graph(\"neo4j://localhost:7687\", auth=(\"neo4j\", \"Tyu123Tyu123\"))"
   ]
  },
  {
   "cell_type": "code",
   "execution_count": 42,
   "id": "b3b1f77c",
   "metadata": {},
   "outputs": [
    {
     "data": {
      "text/html": [
       "<table><tr><th>u1.name</th><th>r.name</th><th>u2.name</th></tr><tr><td style=\"text-align:left\">ФИО участника события 1</td><td style=\"text-align:left\">id события</td><td style=\"text-align:left\">ФИО участника события 2</td></tr><tr><td style=\"text-align:left\">Галчевская Карина Владимировна</td><td style=\"text-align:left\">189</td><td style=\"text-align:left\">Белоновская Анастасия Семеновна</td></tr><tr><td style=\"text-align:left\">Офицеров Олег Романович</td><td style=\"text-align:left\">206</td><td style=\"text-align:left\">Сапожник Борис Валерьевич</td></tr></table>"
      ],
      "text/plain": [
       " u1.name                        | r.name     | u2.name                         \n",
       "--------------------------------|------------|---------------------------------\n",
       " ФИО участника события 1        | id события | ФИО участника события 2         \n",
       " Галчевская Карина Владимировна | 189        | Белоновская Анастасия Семеновна \n",
       " Офицеров Олег Романович        | 206        | Сапожник Борис Валерьевич       "
      ]
     },
     "execution_count": 42,
     "metadata": {},
     "output_type": "execute_result"
    }
   ],
   "source": [
    "graph.run('LOAD CSV FROM \"file:///data_test.csv\" AS file FIELDTERMINATOR \";\" MERGE (u1: User1 {name: file[1]}) MERGE (u2: User2 {name: file[2]}) CREATE (u1)-[r:RELTYPE { name: file[0]}]->(u2) RETURN u1.name, r.name, u2.name')"
   ]
  },
  {
   "cell_type": "code",
   "execution_count": 43,
   "id": "42d6cb42",
   "metadata": {},
   "outputs": [
    {
     "data": {
      "text/html": [
       "<div>\n",
       "<style scoped>\n",
       "    .dataframe tbody tr th:only-of-type {\n",
       "        vertical-align: middle;\n",
       "    }\n",
       "\n",
       "    .dataframe tbody tr th {\n",
       "        vertical-align: top;\n",
       "    }\n",
       "\n",
       "    .dataframe thead th {\n",
       "        text-align: right;\n",
       "    }\n",
       "</style>\n",
       "<table border=\"1\" class=\"dataframe\">\n",
       "  <thead>\n",
       "    <tr style=\"text-align: right;\">\n",
       "      <th></th>\n",
       "      <th>u1.name</th>\n",
       "      <th>foaf</th>\n",
       "    </tr>\n",
       "  </thead>\n",
       "  <tbody>\n",
       "    <tr>\n",
       "      <th>0</th>\n",
       "      <td>Ахромеева Алина Ивановна</td>\n",
       "      <td>49</td>\n",
       "    </tr>\n",
       "    <tr>\n",
       "      <th>1</th>\n",
       "      <td>Башнина Антонина Глебовна</td>\n",
       "      <td>14</td>\n",
       "    </tr>\n",
       "    <tr>\n",
       "      <th>2</th>\n",
       "      <td>Пафомова Кира Вадимовна</td>\n",
       "      <td>2</td>\n",
       "    </tr>\n",
       "    <tr>\n",
       "      <th>3</th>\n",
       "      <td>Зимнухова Карина Даниловна</td>\n",
       "      <td>4</td>\n",
       "    </tr>\n",
       "    <tr>\n",
       "      <th>4</th>\n",
       "      <td>Шолохов Игорь Робертович</td>\n",
       "      <td>2</td>\n",
       "    </tr>\n",
       "    <tr>\n",
       "      <th>5</th>\n",
       "      <td>Диомидов Игорь Ильдарович</td>\n",
       "      <td>5</td>\n",
       "    </tr>\n",
       "  </tbody>\n",
       "</table>\n",
       "</div>"
      ],
      "text/plain": [
       "                      u1.name  foaf\n",
       "0    Ахромеева Алина Ивановна    49\n",
       "1   Башнина Антонина Глебовна    14\n",
       "2     Пафомова Кира Вадимовна     2\n",
       "3  Зимнухова Карина Даниловна     4\n",
       "4    Шолохов Игорь Робертович     2\n",
       "5   Диомидов Игорь Ильдарович     5"
      ]
     },
     "execution_count": 43,
     "metadata": {},
     "output_type": "execute_result"
    }
   ],
   "source": [
    "graph.run('MATCH (u1)-->(u2) WITH u1, count(*) AS foaf WHERE foaf > 1 RETURN u1.name, foaf').to_data_frame()"
   ]
  },
  {
   "cell_type": "code",
   "execution_count": 44,
   "id": "4a20f35a",
   "metadata": {},
   "outputs": [
    {
     "data": {
      "text/html": [
       "<div>\n",
       "<style scoped>\n",
       "    .dataframe tbody tr th:only-of-type {\n",
       "        vertical-align: middle;\n",
       "    }\n",
       "\n",
       "    .dataframe tbody tr th {\n",
       "        vertical-align: top;\n",
       "    }\n",
       "\n",
       "    .dataframe thead th {\n",
       "        text-align: right;\n",
       "    }\n",
       "</style>\n",
       "<table border=\"1\" class=\"dataframe\">\n",
       "  <thead>\n",
       "    <tr style=\"text-align: right;\">\n",
       "      <th></th>\n",
       "      <th>u2.name</th>\n",
       "      <th>foaf</th>\n",
       "    </tr>\n",
       "  </thead>\n",
       "  <tbody>\n",
       "    <tr>\n",
       "      <th>0</th>\n",
       "      <td>Медведева Дарья Алексеевна</td>\n",
       "      <td>5</td>\n",
       "    </tr>\n",
       "    <tr>\n",
       "      <th>1</th>\n",
       "      <td>Двигубская Валентина Геннадьевна</td>\n",
       "      <td>2</td>\n",
       "    </tr>\n",
       "    <tr>\n",
       "      <th>2</th>\n",
       "      <td>Шолохов Игорь Робертович</td>\n",
       "      <td>2</td>\n",
       "    </tr>\n",
       "  </tbody>\n",
       "</table>\n",
       "</div>"
      ],
      "text/plain": [
       "                            u2.name  foaf\n",
       "0        Медведева Дарья Алексеевна     5\n",
       "1  Двигубская Валентина Геннадьевна     2\n",
       "2          Шолохов Игорь Робертович     2"
      ]
     },
     "execution_count": 44,
     "metadata": {},
     "output_type": "execute_result"
    }
   ],
   "source": [
    "graph.run('MATCH (u1)-->(u2) WITH u2, count(*) AS foaf WHERE foaf > 1 RETURN u2.name, foaf').to_data_frame()"
   ]
  },
  {
   "cell_type": "code",
   "execution_count": 47,
   "id": "f22fb8bb",
   "metadata": {},
   "outputs": [
    {
     "data": {
      "text/html": [
       "<div>\n",
       "<style scoped>\n",
       "    .dataframe tbody tr th:only-of-type {\n",
       "        vertical-align: middle;\n",
       "    }\n",
       "\n",
       "    .dataframe tbody tr th {\n",
       "        vertical-align: top;\n",
       "    }\n",
       "\n",
       "    .dataframe thead th {\n",
       "        text-align: right;\n",
       "    }\n",
       "</style>\n",
       "<table border=\"1\" class=\"dataframe\">\n",
       "  <thead>\n",
       "    <tr style=\"text-align: right;\">\n",
       "      <th></th>\n",
       "      <th>path</th>\n",
       "    </tr>\n",
       "  </thead>\n",
       "  <tbody>\n",
       "    <tr>\n",
       "      <th>0</th>\n",
       "      <td>({'name': 'id события'})</td>\n",
       "    </tr>\n",
       "    <tr>\n",
       "      <th>1</th>\n",
       "      <td>({'name': '189'})</td>\n",
       "    </tr>\n",
       "    <tr>\n",
       "      <th>2</th>\n",
       "      <td>({'name': '206'})</td>\n",
       "    </tr>\n",
       "  </tbody>\n",
       "</table>\n",
       "</div>"
      ],
      "text/plain": [
       "                       path\n",
       "0  ({'name': 'id события'})\n",
       "1         ({'name': '189'})\n",
       "2         ({'name': '206'})"
      ]
     },
     "execution_count": 47,
     "metadata": {},
     "output_type": "execute_result"
    }
   ],
   "source": [
    "graph.run('MATCH (u1:User1), (u2:User2), path = shortestpath((u1)-[:RELTYPE*]-(u2)) RETURN path LIMIT 3').to_data_frame()"
   ]
  },
  {
   "cell_type": "code",
   "execution_count": 46,
   "id": "3d286531",
   "metadata": {},
   "outputs": [
    {
     "data": {
      "text/html": [
       "<div>\n",
       "<style scoped>\n",
       "    .dataframe tbody tr th:only-of-type {\n",
       "        vertical-align: middle;\n",
       "    }\n",
       "\n",
       "    .dataframe tbody tr th {\n",
       "        vertical-align: top;\n",
       "    }\n",
       "\n",
       "    .dataframe thead th {\n",
       "        text-align: right;\n",
       "    }\n",
       "</style>\n",
       "<table border=\"1\" class=\"dataframe\">\n",
       "  <thead>\n",
       "    <tr style=\"text-align: right;\">\n",
       "      <th></th>\n",
       "      <th>u1</th>\n",
       "      <th>path</th>\n",
       "      <th>u2</th>\n",
       "    </tr>\n",
       "  </thead>\n",
       "  <tbody>\n",
       "    <tr>\n",
       "      <th>0</th>\n",
       "      <td>{'name': 'Торгунаков Роман Кириллович'}</td>\n",
       "      <td>({'name': '750824'}, {'name': '829652'}, {'nam...</td>\n",
       "      <td>{'name': 'Ляуданский Валентин Владиславович'}</td>\n",
       "    </tr>\n",
       "  </tbody>\n",
       "</table>\n",
       "</div>"
      ],
      "text/plain": [
       "                                        u1  \\\n",
       "0  {'name': 'Торгунаков Роман Кириллович'}   \n",
       "\n",
       "                                                path  \\\n",
       "0  ({'name': '750824'}, {'name': '829652'}, {'nam...   \n",
       "\n",
       "                                              u2  \n",
       "0  {'name': 'Ляуданский Валентин Владиславович'}  "
      ]
     },
     "execution_count": 46,
     "metadata": {},
     "output_type": "execute_result"
    }
   ],
   "source": [
    "graph.run('MATCH (u1:User1), (u2:User2), path = shortestpath((u1)-[:RELTYPE*]-(u2)) RETURN u1, path, u2 ORDER BY LENGTH(path) DESC LIMIT 1').to_data_frame()"
   ]
  }
 ],
 "metadata": {
  "kernelspec": {
   "display_name": "Python 3 (ipykernel)",
   "language": "python",
   "name": "python3"
  },
  "language_info": {
   "codemirror_mode": {
    "name": "ipython",
    "version": 3
   },
   "file_extension": ".py",
   "mimetype": "text/x-python",
   "name": "python",
   "nbconvert_exporter": "python",
   "pygments_lexer": "ipython3",
   "version": "3.9.13"
  }
 },
 "nbformat": 4,
 "nbformat_minor": 5
}
