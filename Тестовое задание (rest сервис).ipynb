{
 "cells": [
  {
   "cell_type": "code",
   "execution_count": 1,
   "id": "77f782ee",
   "metadata": {},
   "outputs": [],
   "source": [
    "from py2neo import Graph\n",
    "graph = Graph(\"neo4j://localhost:7687\", auth=(\"neo4j\", \"Tyu123Tyu123\"))"
   ]
  },
  {
   "cell_type": "code",
   "execution_count": 2,
   "id": "354a865a",
   "metadata": {},
   "outputs": [
    {
     "name": "stdout",
     "output_type": "stream",
     "text": [
      "Скулкин Глеб Альбертович\n"
     ]
    },
    {
     "data": {
      "text/plain": [
       "'[{\"n\": {\"identity\": 40, \"labels\": [\"User1\"], \"properties\": {\"name\": \"Скулкин Глеб Альбертович\"}, \"elementId\": \"40\"}}]'"
      ]
     },
     "execution_count": 2,
     "metadata": {},
     "output_type": "execute_result"
    }
   ],
   "source": [
    "import json\n",
    "\n",
    "name = '{name:\"' + str(input()) + '\"}'\n",
    "\n",
    "request = f'MATCH (n {name}) RETURN n'\n",
    "\n",
    "Node = graph.run(request).evaluate()\n",
    "\n",
    "list_node = [{'n': {'identity': Node.identity,\n",
    "     'labels': [str(Node.labels)[1:]],\n",
    "     'properties': dict(Node),\n",
    "     'elementId': str(Node.identity)}}]\n",
    "\n",
    "json.dumps(list_node, ensure_ascii = False)"
   ]
  }
 ],
 "metadata": {
  "kernelspec": {
   "display_name": "Python 3 (ipykernel)",
   "language": "python",
   "name": "python3"
  },
  "language_info": {
   "codemirror_mode": {
    "name": "ipython",
    "version": 3
   },
   "file_extension": ".py",
   "mimetype": "text/x-python",
   "name": "python",
   "nbconvert_exporter": "python",
   "pygments_lexer": "ipython3",
   "version": "3.9.13"
  }
 },
 "nbformat": 4,
 "nbformat_minor": 5
}
